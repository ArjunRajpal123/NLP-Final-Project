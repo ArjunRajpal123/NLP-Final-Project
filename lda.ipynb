{
 "cells": [
  {
   "attachments": {},
   "cell_type": "markdown",
   "metadata": {},
   "source": [
    "# Code for LDA Model Work\n",
    "### Mon April 17th\n",
    "\n"
   ]
  },
  {
   "attachments": {},
   "cell_type": "markdown",
   "metadata": {},
   "source": [
    "### 1. Imports"
   ]
  },
  {
   "cell_type": "code",
   "execution_count": null,
   "metadata": {},
   "outputs": [],
   "source": [
    "\n",
    "import os\n",
    "import pandas as pd\n",
    "import numpy as np\n",
    "import string\n",
    "import nltk\n",
    "from nltk.tokenize import word_tokenize\n",
    "from nltk.corpus import stopwords, wordnet\n",
    "from nltk.stem import WordNetLemmatizer\n",
    "from sklearn.model_selection import train_test_split\n",
    "from sklearn.feature_extraction.text import CountVectorizer\n",
    "from sklearn.decomposition import LatentDirichletAllocation\n",
    "from sklearn.linear_model import LogisticRegression\n",
    "from sklearn.metrics import accuracy_score, f1_score, precision_score, recall_score\n",
    "\n",
    "nltk.download('punkt')\n",
    "nltk.download('stopwords')\n",
    "nltk.download('wordnet')\n"
   ]
  },
  {
   "attachments": {},
   "cell_type": "markdown",
   "metadata": {},
   "source": [
    "### 1. LMR Models"
   ]
  },
  {
   "cell_type": "code",
   "execution_count": null,
   "metadata": {},
   "outputs": [],
   "source": [
    "\n",
    "# Load the data\n",
    "train_data = pd.read_csv(\"./lmr_train_mixed_labels.csv\")\n",
    "test_data = pd.read_csv(\"lmr_test.csv\")\n",
    "\n",
    "# Remove any rows with missing values\n",
    "train_data.dropna(inplace=True)\n",
    "test_data.dropna(inplace=True)\n",
    "\n",
    "# Tokenize the reviews and remove stop words\n",
    "stop_words = set(stopwords.words('english'))\n",
    "\n",
    "def tokenize_review(review):\n",
    "    tokens = word_tokenize(review)\n",
    "    return [token.lower() for token in tokens if token.lower() not in stop_words]\n",
    "\n",
    "train_data['tokens'] = train_data['review'].apply(tokenize_review)\n",
    "test_data['tokens'] = test_data['review'].apply(tokenize_review)\n",
    "\n",
    "# Convert the tokenized reviews to a bag of words representation\n",
    "vectorizer = CountVectorizer(tokenizer=lambda x: x, preprocessor=lambda x: x)\n",
    "train_bow = vectorizer.fit_transform(train_data['tokens'])\n",
    "test_bow = vectorizer.transform(test_data['tokens'])\n",
    "\n",
    "# Train the LDA model\n",
    "n_topics = 50\n",
    "lda = LatentDirichletAllocation(n_components=n_topics, random_state=42)\n",
    "lda.fit(train_bow)\n",
    "\n",
    "# Generate sparse vectors (word embeddings) for the train, validation and test sets\n",
    "train_embeddings = lda.transform(train_bow)\n",
    "test_embeddings = lda.transform(test_bow)\n",
    "\n",
    "print(train_embeddings[0:5,:])\n",
    "# Train the logistic regression model\n",
    "lr = LogisticRegression(random_state=42)\n",
    "lr.fit(train_embeddings, train_data['label'])\n",
    "\n",
    "# Evaluate the model on the validation set\n",
    "val_preds = lr.predict(test_embeddings)\n",
    "val_acc = accuracy_score(test_data['label'], val_preds)\n",
    "val_f1 = f1_score(test_data['label'], val_preds, average='weighted')\n",
    "val_precision = precision_score(test_data['label'], val_preds, average='weighted')\n",
    "val_recall = recall_score(test_data['label'], val_preds, average='weighted')\n",
    "\n",
    "print(\"Validation set results:\")\n",
    "print(\"Accuracy: {:.4f}\".format(val_acc))\n",
    "print(\"F1 Score: {:.4f}\".format(val_f1))\n",
    "print(\"Precision: {:.4f}\".format(val_precision))\n",
    "print(\"Recall: {:.4f}\".format(val_recall))\n",
    "\n",
    "# Make predictions on the test set\n",
    "test_preds = lr.predict(test_embeddings)\n",
    "\n",
    "# Save the predictions to a CSV file\n",
    "test_data['label'] = test_preds\n",
    "test_data[['review', 'label']].to_csv(\"lmr_test_preds.csv\", index=False)\n",
    "\n",
    "\n",
    "#Increasing the number of topics\n",
    "\n",
    "# Train the LDA model\n",
    "n_topics = 10\n",
    "lda = LatentDirichletAllocation(n_components=n_topics, random_state=42)\n",
    "lda.fit(train_bow)\n",
    "\n",
    "# Generate sparse vectors (word embeddings) for the train, validation and test sets\n",
    "train_embeddings = lda.transform(train_bow)\n",
    "test_embeddings = lda.transform(test_bow)\n",
    "\n",
    "print(train_embeddings[0:5,:])\n",
    "# Train the logistic regression model\n",
    "lr = LogisticRegression(random_state=42)\n",
    "lr.fit(train_embeddings, train_data['label'])\n",
    "\n",
    "# Evaluate the model on the validation set\n",
    "val_preds = lr.predict(test_embeddings)\n",
    "val_acc = accuracy_score(test_data['label'], val_preds)\n",
    "val_f1 = f1_score(test_data['label'], val_preds, average='weighted')\n",
    "val_precision = precision_score(test_data['label'], val_preds, average='weighted')\n",
    "val_recall = recall_score(test_data['label'], val_preds, average='weighted')\n",
    "\n",
    "print(\"Validation set results:\")\n",
    "print(\"Accuracy: {:.4f}\".format(val_acc))\n",
    "print(\"F1 Score: {:.4f}\".format(val_f1))\n",
    "print(\"Precision: {:.4f}\".format(val_precision))\n",
    "print(\"Recall: {:.4f}\".format(val_recall))\n",
    "\n",
    "# Make predictions on the test set\n",
    "test_preds = lr.predict(test_embeddings)\n"
   ]
  },
  {
   "attachments": {},
   "cell_type": "markdown",
   "metadata": {},
   "source": [
    "### 2. ARP Models"
   ]
  },
  {
   "cell_type": "code",
   "execution_count": null,
   "metadata": {},
   "outputs": [],
   "source": [
    "# Load the data\n",
    "train_data = pd.read_csv(\"arp_train.csv\")\n",
    "test_data = pd.read_csv(\"arp_test.csv\")\n",
    "\n",
    "# Remove any rows with missing values\n",
    "train_data.dropna(inplace=True)\n",
    "test_data.dropna(inplace=True)"
   ]
  },
  {
   "cell_type": "code",
   "execution_count": null,
   "metadata": {},
   "outputs": [],
   "source": [
    "def clean_text(lines, review_lines):\n",
    "    for line in lines:\n",
    "        tokens = word_tokenize(line)\n",
    "        #convert to lower case\n",
    "        tokens = [w.lower() for w in tokens]\n",
    "        #remove punctuation from each word\n",
    "        table = str.maketrans('', '', string.punctuation)\n",
    "        stripped = [w.translate(table) for w in tokens]\n",
    "        #remove remaining tokens that are not alphabetic\n",
    "        words = [word for word in stripped if word.isalpha()]\n",
    "        #filter out stop words\n",
    "        stop_words = set(stopwords.words('english'))\n",
    "        words = [w for w in words if not w in stop_words]\n",
    "        words = [wn.lemmatize(w) for w in words]\n",
    "        review_lines.append(words)\n",
    "    return review_lines"
   ]
  },
  {
   "cell_type": "code",
   "execution_count": null,
   "metadata": {},
   "outputs": [],
   "source": [
    "clean_test = list()\n",
    "clean_text(test_data[\"review\"], clean_test)\n",
    "clean_train = list()\n",
    "clean_text(train_data[\"review\"], clean_train)\n",
    "\n",
    "train_docs = [' '.join(sublist) for sublist in clean_train]\n",
    "test_docs = [' '.join(sublist) for sublist in clean_test]"
   ]
  },
  {
   "cell_type": "code",
   "execution_count": null,
   "metadata": {},
   "outputs": [],
   "source": [
    "train_labels = train_data['label'].apply(lambda x: 1 if x == 'pos' else 0)\n",
    "\n",
    "test_labels = test_data['label'].apply(lambda x: 1 if x == 'pos' else 0)\n"
   ]
  },
  {
   "cell_type": "code",
   "execution_count": null,
   "metadata": {},
   "outputs": [],
   "source": [
    "\n",
    "vectorizer = CountVectorizer()\n",
    "train_bow = vectorizer.fit_transform(train_docs)\n",
    "test_bow = vectorizer.fit_transform(test_docs)"
   ]
  },
  {
   "cell_type": "code",
   "execution_count": null,
   "metadata": {},
   "outputs": [],
   "source": [
    "lda = LatentDirichletAllocation(n_components=10, random_state=42)\n",
    "lda.fit(train_bow)\n",
    "\n",
    "\n",
    "train_embeddings = lda.transform(train_bow)\n",
    "print(2)\n",
    "test_embeddings = lda.transform(test_bow)"
   ]
  },
  {
   "cell_type": "code",
   "execution_count": null,
   "metadata": {},
   "outputs": [],
   "source": [
    "lr = LogisticRegression(random_state=42)\n",
    "lr.fit(train_embeddings, train_labels)\n",
    "\n",
    "# Evaluate the model on the validation set\n",
    "val_preds = lr.predict(test_embeddings)\n",
    "val_acc = accuracy_score(test_labels, val_preds)\n",
    "val_f1 = f1_score(test_labels, val_preds, average='weighted')\n",
    "val_precision = precision_score(test_labels, val_preds, average='weighted')\n",
    "val_recall = recall_score(test_labels, val_preds, average='weighted')\n",
    "\n",
    "print(\"Validation set results:\")\n",
    "print(\"Accuracy: {:.4f}\".format(val_acc))\n",
    "print(\"F1 Score: {:.4f}\".format(val_f1))\n",
    "print(\"Precision: {:.4f}\".format(val_precision))\n",
    "print(\"Recall: {:.4f}\".format(val_recall))"
   ]
  },
  {
   "cell_type": "code",
   "execution_count": 1,
   "metadata": {},
   "outputs": [],
   "source": [
    "# old imports\n",
    "\n",
    "\n",
    "import os\n",
    "import pandas as pd\n",
    "import numpy as np\n",
    "import nltk\n",
    "from nltk.corpus import stopwords\n",
    "from nltk.tokenize import word_tokenize\n",
    "from sklearn.model_selection import train_test_split\n",
    "from sklearn.feature_extraction.text import CountVectorizer\n",
    "from sklearn.decomposition import LatentDirichletAllocation\n",
    "from sklearn.linear_model import LogisticRegression\n",
    "from sklearn.metrics import accuracy_score, f1_score, precision_score, recall_score\n",
    "nltk.download('punkt')\n",
    "nltk.download('stopwords')\n",
    "\n",
    "\n",
    "import string\n",
    "import nltk\n",
    "from nltk.tokenize import word_tokenize\n",
    "from nltk.corpus import stopwords\n",
    "from nltk.stem import WordNetLemmatizer\n",
    "wn = WordNetLemmatizer()\n",
    "\n",
    "import os\n",
    "import pandas as pd\n",
    "import numpy as np\n",
    "import nltk\n",
    "from nltk.corpus import stopwords\n",
    "from nltk.tokenize import word_tokenize\n",
    "from sklearn.model_selection import train_test_split\n",
    "from sklearn.feature_extraction.text import CountVectorizer\n",
    "from sklearn.decomposition import LatentDirichletAllocation\n",
    "from sklearn.linear_model import LogisticRegression\n",
    "from sklearn.metrics import accuracy_score, f1_score, precision_score, recall_score\n",
    "nltk.download('punkt')\n",
    "nltk.download('stopwords')\n",
    "nltk.download('wordnet')\n"
   ]
  }
 ],
 "metadata": {
  "kernelspec": {
   "display_name": "nlp",
   "language": "python",
   "name": "python3"
  },
  "language_info": {
   "codemirror_mode": {
    "name": "ipython",
    "version": 3
   },
   "file_extension": ".py",
   "mimetype": "text/x-python",
   "name": "python",
   "nbconvert_exporter": "python",
   "pygments_lexer": "ipython3",
   "version": "3.10.5"
  },
  "orig_nbformat": 4
 },
 "nbformat": 4,
 "nbformat_minor": 2
}
